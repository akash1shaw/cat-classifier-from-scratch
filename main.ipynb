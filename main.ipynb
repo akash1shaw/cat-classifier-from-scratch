{
 "cells": [
  {
   "cell_type": "code",
   "execution_count": 1,
   "id": "bfd00c3e-6926-4f6b-a003-55350bcf8878",
   "metadata": {},
   "outputs": [],
   "source": [
    "import numpy as np\n",
    "import pandas as pd\n",
    "import matplotlib.pyplot as plt\n",
    "import h5py\n",
    "np.random.seed(42)\n",
    "\n",
    "\n",
    "\n",
    "\n",
    "def sigmoid(Z):\n",
    "    \"\"\"\n",
    "    Implements sigmoid non linear activation to linear output\n",
    "    Z-> linear output\n",
    "    \"\"\"\n",
    "    Z = np.clip(Z, -500, 500)\n",
    "    A=1/(1+np.exp(-Z))\n",
    "    cache=Z\n",
    "    return A,cache\n",
    "\n",
    "def relu(Z):\n",
    "    \"\"\"\n",
    "    Implements relu non linear activation to linear output\n",
    "    Z-> linear output\n",
    "    \"\"\"\n",
    "    A=np.maximum(0,Z)\n",
    "    cache=Z\n",
    "    return A,cache\n",
    "\n",
    "def tanh(Z):\n",
    "    \"\"\"\n",
    "    Implements tanh non linear activation to linear output\n",
    "    Z-> linear output\n",
    "    \"\"\"\n",
    "    A=np.tanh(Z)\n",
    "    cache=Z\n",
    "    return A,cache\n",
    "\n",
    "def initialize_parameters(layer_dims):\n",
    "    \"\"\" \n",
    "    \"layer dims\" is a list consiting of number of input features and hidden units in each layer\n",
    "    initalize_parameters() initializes parameters of all hidden layers \n",
    "\n",
    "    >>> initalize_parameters([4,10,15,25,10])\n",
    "            return parameters\n",
    "    \"\"\"\n",
    "    \n",
    "    np.random.seed(42)\n",
    "    L=len(layer_dims)\n",
    "    parameters={}\n",
    "\n",
    "    \n",
    "    for i in range(1,L):\n",
    "        \n",
    "        parameters[\"W\"+str(i)]=np.random.randn(layer_dims[i],layer_dims[i-1])*np.sqrt(2/layer_dims[i-1])\n",
    "        parameters[\"b\"+str(i)]=np.zeros((layer_dims[i],1))\n",
    "        \n",
    "        assert(parameters[\"W\"+str(i)]).shape==(layer_dims[i],layer_dims[i-1])\n",
    "        assert(parameters[\"b\"+str(i)]).shape==(layer_dims[i],1)\n",
    "        \n",
    "    return parameters\n",
    "def linear_activation_layer(A_prev,W,b,activation):\n",
    "\n",
    "    \"\"\"\n",
    "    linear_activation_layer has four parameters X,W,b,activatuion\n",
    "    A_prev-> input feature matrix\n",
    "    W-> weight matirx\n",
    "    b-> bias matrix\n",
    "    activation-> applied non-linearity\n",
    "    \n",
    "    \"\"\"\n",
    "    Z=np.matmul(W,A_prev)+b\n",
    "    linear_cache=(A_prev,W,b)\n",
    "    \n",
    "    if activation==\"relu\":\n",
    "        A,activation_cache=relu(Z)\n",
    "        \n",
    "    elif activation==\"sigmoid\":\n",
    "        A,activation_cache=sigmoid(Z)\n",
    "        \n",
    "    elif activation==\"tanh\":\n",
    "        A,activation_cache=tanh(Z)\n",
    "        \n",
    "    cache=(linear_cache,activation_cache)\n",
    "    assert(Z.shape==A.shape)\n",
    "    assert(A.shape==(W.shape[0],A_prev.shape[1]))\n",
    "    return A,cache    \n",
    "def L_layer_deep_forward_layer(X,parameters):\n",
    "    \"\"\" \n",
    "    L_layer_deep_forward_layer implements forward propagation part of Neural Netwrok\n",
    "    X -> input feature matrix\n",
    "    parameters -> A set containing all weight matrix and bias vector\n",
    "    \n",
    "    \"\"\"\n",
    "\n",
    "    \n",
    "    L=len(parameters)//2\n",
    "    A_in=X\n",
    "    caches=[]\n",
    "    \n",
    "    for i in range(1,L):\n",
    "        A_out,cache=linear_activation_layer(A_in,parameters[\"W\"+str(i)],parameters[\"b\"+str(i)],\"relu\")\n",
    "        A_in=A_out\n",
    "        caches.append(cache)\n",
    "        \n",
    "    A_L,cache=linear_activation_layer(A_in,parameters[\"W\"+str(L)],parameters[\"b\"+str(L)],\"sigmoid\")\n",
    "    caches.append(cache)\n",
    "    \n",
    "    return A_L,caches\n",
    "\n",
    "def compute_cost(y,y_pred):\n",
    "    \"\"\"\n",
    "    Implement the binary crossntropy function \n",
    "    y-> target label\n",
    "    y_pred-> predicted label\n",
    "    \n",
    "    \"\"\"\n",
    "    loss=-(y*np.log(y_pred+1e-15)+(1-y)*np.log(1-y_pred+1e-15))\n",
    "    \n",
    "    cost=np.mean(loss)\n",
    "    cost=np.squeeze(cost)\n",
    "    return cost\n",
    "def linear_backward(dZ,linear_cache):\n",
    "    \"\"\"\n",
    "    Implement 'single layer' linear backpropagation \n",
    "    dZ-> gradient of cost function w.r.t to linear output\n",
    "    cache-> it is a tuple coming from linear activation layer \n",
    "    \n",
    "    \"\"\"\n",
    "    m=dZ.shape[1]\n",
    "    A_prev,W,b=linear_cache\n",
    "    \n",
    "    dW=np.matmul(dZ,A_prev.T)/m\n",
    "    db=np.mean(dZ,axis=1,keepdims=True)\n",
    "    dA_prev=np.matmul(W.T,dZ)\n",
    "    \n",
    "    return dW,db,dA_prev\n",
    "def sigmoid_backward(dA,activation_cache):\n",
    "    Z=activation_cache\n",
    "    \n",
    "    Z = np.clip(Z, -500, 500)\n",
    "    A=1/(1+np.exp(-Z))\n",
    " \n",
    "    return dA*A*(1-A)\n",
    "\n",
    "def relu_backward(dA,activation_cache):\n",
    "    Z=activation_cache\n",
    "    return dA*np.where(Z>0,1,0)\n",
    "\n",
    "def tanh_backward(dA,activation_cache):\n",
    "    Z=activation_cache\n",
    "    return dA*(1-np.tanh(Z)**2)\n",
    "\n",
    "def linear_activation_backward(dA,cache,activation):\n",
    "    linear_cache,activation_cache=cache\n",
    "    \n",
    "    if activation==\"relu\":\n",
    "        dZ=relu_backward(dA,activation_cache)\n",
    "        \n",
    "    elif activation==\"sigmoid\":\n",
    "        dZ=sigmoid_backward(dA,activation_cache)\n",
    "        \n",
    "        \n",
    "    elif activation==\"tanh\":\n",
    "        dZ=tanh_backward(dA,activation_cache)\n",
    "    \n",
    "    dW,db,dA_prev=linear_backward(dZ,linear_cache)  \n",
    "    return dW,db,dA_prev\n",
    "\n",
    "\n",
    "def L_layer_backward(A_L,y,caches):\n",
    "    grads={}\n",
    "    L=len(caches)\n",
    "    cache=caches[L-1]\n",
    "    m=y.shape[0]\n",
    "    \n",
    "    dAL=(-np.divide(y,A_L+1e-15)+np.divide(1-y,1-A_L+1e-15))\n",
    "    grads[\"dW\"+str(L)],grads[\"db\"+str(L)],grads[\"dA\"+str(L-1)]=linear_activation_backward(dAL,cache,\"sigmoid\")\n",
    " \n",
    "    \n",
    "    for i in reversed(range(L-1)):\n",
    "        \n",
    "        cache=caches[i]\n",
    "     \n",
    "        grads[\"dW\"+str(i+1)],grads[\"db\"+str(i+1)],grads[\"dA\"+str(i)]=linear_activation_backward(grads[\"dA\"+str(i+1)],cache,\"relu\")\n",
    "        \n",
    "    \n",
    "    return grads\n",
    "def update_parameters(parameters,grads,learning_rate):\n",
    "    L=len(parameters)//2\n",
    "    for i in range (L):\n",
    "        parameters[\"W\"+str(i+1)]-=learning_rate*grads[\"dW\"+str(i+1)]\n",
    "        parameters[\"b\"+str(i+1)]-=learning_rate*grads[\"db\"+str(i+1)]\n",
    "    return parameters\n",
    "def accuracy_of_model(X,y,parameters):\n",
    "    m=y.shape[1]\n",
    "    y_pred,cache= L_layer_deep_forward_layer(X,parameters)\n",
    "    y_pred=(y_pred[0,:]>0.5).astype(int).reshape(1,-1)\n",
    "    count=np.sum(y_pred[0,:]==y[0,:])\n",
    "    accuracy=count/m\n",
    "\n",
    "    return (accuracy)\n",
    "def random_mini_batches(X,y,mini_batch_size,seed):\n",
    "    np.random.seed(seed)\n",
    "    mini_batches=[]\n",
    "    m=X.shape[1]\n",
    "    \n",
    "    permutation=list(np.random.permutation(m))\n",
    "    random_X=X[:,permutation]\n",
    "    random_y=y[:,permutation]\n",
    "    \n",
    "    num_complete_batch=(m//mini_batch_size)\n",
    "    \n",
    "    for k in range(num_complete_batch):\n",
    "        mini_batch_X=random_X[:,k*mini_batch_size:(k+1)*mini_batch_size]\n",
    "        mini_batch_y=random_y[:,k*mini_batch_size:(k+1)*mini_batch_size]\n",
    "        \n",
    "        batch=(mini_batch_X,mini_batch_y)\n",
    "        mini_batches.append(batch)\n",
    "        \n",
    "    if(m%mini_batch_size!=0):\n",
    "        mini_batch_X=random_X[:,num_complete_batch*mini_batch_size:]\n",
    "        mini_batch_y=random_y[:,num_complete_batch*mini_batch_size:]\n",
    "        batch=(mini_batch_X,mini_batch_y)\n",
    "        mini_batches.append(batch)\n",
    "        \n",
    "    return mini_batches\n",
    "def initialize_velocity(parameters):\n",
    "    L=len(parameters)//2\n",
    "    v={}\n",
    "    for i in range(L):\n",
    "        v[\"dW\"+str(i+1)]=np.zeros((parameters[\"W\"+str(i+1)].shape[0],parameters[\"W\"+str(i+1)].shape[1]))\n",
    "        v[\"db\"+str(i+1)]=np.zeros((parameters[\"b\"+str(i+1)].shape[0],parameters[\"b\"+str(i+1)].shape[1]))\n",
    "    return v\n",
    "\n",
    "def update_parameters_with_momentum(parameters,grads,v,beta,learning_rate):\n",
    "    L=len(parameters)//2\n",
    "    for l in range(L):\n",
    "        v[\"dW\"+str(l+1)]=beta* v[\"dW\"+str(l+1)] + (1-beta)* grads[\"dW\"+str(l+1)]\n",
    "        v[\"db\"+str(l+1)]=beta* v[\"db\"+str(l+1)] + (1-beta)* grads[\"db\"+str(l+1)]\n",
    "        \n",
    "        parameters[\"W\"+str(l+1)]-=learning_rate*v[\"dW\"+str(l+1)]\n",
    "        parameters[\"b\"+str(l+1)]-=learning_rate*v[\"db\"+str(l+1)]\n",
    "    return parameters,v\n",
    "\n",
    "def initialize_Adam(parameters):\n",
    "    L=len(parameters)//2\n",
    "    v={}\n",
    "    s={}\n",
    "    for l in range(L):\n",
    "        v[\"dW\"+str(l+1)]=np.zeros((parameters[\"W\"+str(l+1)].shape[0], parameters[\"W\"+str(l+1)].shape[1]))\n",
    "        v[\"db\"+str(l+1)]=np.zeros((parameters[\"b\"+str(l+1)].shape[0], parameters[\"b\"+str(l+1)].shape[1]))\n",
    "\n",
    "        s[\"dW\"+str(l+1)]=np.zeros((parameters[\"W\"+str(l+1)].shape[0], parameters[\"W\"+str(l+1)].shape[1]))\n",
    "        s[\"db\"+str(l+1)]=np.zeros((parameters[\"b\"+str(l+1)].shape[0], parameters[\"b\"+str(l+1)].shape[1]))\n",
    "    return v,s\n",
    "\n",
    "def update_parameters_with_adam(parameters,grads,v,s,t,learning_rate=0.01,beta1=0.9,beta2=0.999,epsilon=1e-8):\n",
    "    \n",
    "    v_corrected={}\n",
    "    s_corrected={}\n",
    "    \n",
    "    L=len(parameters)//2\n",
    "    \n",
    "    for l in range(L):\n",
    "        v[\"dW\"+str(l+1)]=beta1*v[\"dW\"+str(l+1)]+(1-beta1)*grads[\"dW\"+str(l+1)]\n",
    "        v[\"db\"+str(l+1)]=beta1*v[\"db\"+str(l+1)]+(1-beta1)*grads[\"db\"+str(l+1)]\n",
    "        \n",
    "        s[\"dW\"+str(l+1)]=beta2*s[\"dW\"+str(l+1)]+(1-beta2)*np.square(grads[\"dW\"+str(l+1)])\n",
    "        s[\"db\"+str(l+1)]=beta2*s[\"db\"+str(l+1)]+(1-beta2)*np.square(grads[\"db\"+str(l+1)])\n",
    "\n",
    "        v_corrected[\"dW\"+str(l+1)]=v[\"dW\"+str(l+1)]/(1-beta1**t)\n",
    "        v_corrected[\"db\"+str(l+1)]=v[\"db\"+str(l+1)]/(1-beta1**t)\n",
    "        s_corrected[\"dW\"+str(l+1)]=s[\"dW\"+str(l+1)]/(1-beta2**t)\n",
    "        s_corrected[\"db\"+str(l+1)]=s[\"db\"+str(l+1)]/(1-beta2**t)\n",
    "\n",
    "        parameters[\"W\"+str(l+1)]-=learning_rate*v_corrected[\"dW\"+str(l+1)]/np.sqrt(s_corrected[\"dW\"+str(l+1)]+epsilon)\n",
    "        parameters[\"b\"+str(l+1)]-=learning_rate*v_corrected[\"db\"+str(l+1)]/np.sqrt(s_corrected[\"db\"+str(l+1)]+epsilon)\n",
    "    return parameters,v,s"
   ]
  },
  {
   "cell_type": "code",
   "execution_count": 2,
   "id": "698066e3-e50d-4a94-b813-60f03018c49f",
   "metadata": {},
   "outputs": [],
   "source": [
    "from sklearn.datasets import load_breast_cancer\n",
    "from sklearn.model_selection import train_test_split\n",
    "from sklearn.preprocessing import StandardScaler\n",
    "import numpy as np\n",
    "\n",
    "X, y = load_breast_cancer(return_X_y=True)\n",
    "\n",
    "scaler = StandardScaler()\n",
    "X = scaler.fit_transform(X)\n",
    "\n",
    "y = y.reshape(-1, 1)  \n",
    "\n",
    "X_train, X_test, y_train, y_test = train_test_split(X, y, test_size=0.2, random_state=42)\n",
    "\n",
    "\n",
    "X_train = X_train.T  \n",
    "y_train = y_train.T  \n",
    "X_test = X_test.T\n",
    "y_test = y_test.T\n"
   ]
  },
  {
   "cell_type": "code",
   "execution_count": 13,
   "id": "b44427e8-f1cc-4ad6-ae21-162b0c9fff83",
   "metadata": {},
   "outputs": [],
   "source": [
    "layers_dims = [30, 16, 8, 1]\n"
   ]
  },
  {
   "cell_type": "code",
   "execution_count": 15,
   "id": "e738dfb2-d984-4904-8404-60c415df6a86",
   "metadata": {
    "scrolled": true
   },
   "outputs": [
    {
     "name": "stdout",
     "output_type": "stream",
     "text": [
      "The number of training example is: 455\n",
      "The size of mini batch for each epoch is: 64\n",
      "cost after epoch 0: 0.009566606653678159\n",
      "cost after epoch 100: 2.107857495202655e-06\n",
      "cost after epoch 200: 4.255470055597997e-07\n",
      "cost after epoch 300: 1.935041843214466e-07\n",
      "cost after epoch 400: 8.478382556579333e-08\n",
      "cost after epoch 500: 4.694417497679132e-08\n",
      "cost after epoch 600: 8.862970797273003e-08\n",
      "cost after epoch 700: 1.535224563475681e-08\n",
      "cost after epoch 800: 9.832160847829792e-09\n",
      "cost after epoch 900: 6.601801543296858e-09\n"
     ]
    },
    {
     "data": {
      "image/png": "[encoded data removed]",
      "text/plain": [
       "<Figure size 640x480 with 1 Axes>"
      ]
     },
     "metadata": {},
     "output_type": "display_data"
    }
   ],
   "source": [
    "parameters=model(X_train,y_train,layers_dims,\"Adam\",learning_rate=1e-3,mini_batch_size=64,beta=0.9,beta1=0.9,beta2=0.999,epsilon=1e-8,num_epochs=1000,print_cost=True)"
   ]
  },
  {
   "cell_type": "code",
   "execution_count": 46,
   "id": "752be486-412a-4a5b-a143-6815c37fea59",
   "metadata": {},
   "outputs": [],
   "source": [
    "\n",
    "def model(X,y,layer_dims,optimizer,learning_rate=0.0007,mini_batch_size=64,beta=0.9,beta1=0.9,beta2=0.999,epsilon=1e-8,num_epochs=10000,print_cost=True):\n",
    "\n",
    "    parameters=initialize_parameters(layer_dims)\n",
    "    L=len(parameters)//2\n",
    "    costs=[]\n",
    "    t=0\n",
    "    seed=1\n",
    "    m=y.shape[1]\n",
    "    \n",
    "    print(f\"The number of training example is: {m}\")\n",
    "    print(f\"The size of mini batch for each epoch is: {mini_batch_size}\")\n",
    "    \n",
    "    \n",
    "    if optimizer==\"GD\":\n",
    "        pass\n",
    "    elif optimizer==\"momentum\":\n",
    "        v=initialize_velocity(parameters)\n",
    "    elif optimizer==\"Adam\":\n",
    "        v,s=initialize_Adam(parameters)\n",
    "    \n",
    "    for i in range(num_epochs):\n",
    "        seed=seed+1\n",
    "        mini_batches=random_mini_batches(X,y,mini_batch_size,seed)\n",
    "        total_cost=0\n",
    "\n",
    "        for mini_batch in mini_batches:\n",
    "            random_X,random_y=mini_batch\n",
    "            \n",
    "            AL,caches=L_layer_deep_forward_layer(random_X,parameters)\n",
    "            total_cost+=compute_cost(random_y,AL)\n",
    "            grads=L_layer_backward(AL,random_y,caches)\n",
    "\n",
    "            if optimizer==\"GD\":\n",
    "                parameters=update_parameters(parameters,grads,learning_rate)\n",
    "                \n",
    "            elif optimizer==\"momentum\":\n",
    "                parameters,v=update_parameters_with_momentum(parameters,grads,v,beta,learning_rate)\n",
    "                \n",
    "            elif optimizer==\"Adam\":\n",
    "                t+=1\n",
    "                parameters,v,s=update_parameters_with_adam(parameters,grads,v,s,t,learning_rate=0.01,beta1=0.9,beta2=0.999,epsilon=1e-8)\n",
    "        cost_avg=total_cost/m\n",
    "            \n",
    "        if i%10==0:\n",
    "            costs.append(cost_avg)\n",
    "        if i%10==0 and print_cost:\n",
    "            print(f\"cost after epoch {i}: {cost_avg}\")\n",
    "                \n",
    "    plt.plot(costs)\n",
    "    plt.xlabel(\"# epoch (per 100)\")\n",
    "    plt.ylabel(\"avg_cost\")\n",
    "    plt.title(\"learning rate\" +str(learning_rate))\n",
    "    plt.show()\n",
    "    return parameters"
   ]
  },
  {
   "cell_type": "code",
   "execution_count": 18,
   "id": "e62c97fd-f159-4aa6-9dd0-11ddc06606f7",
   "metadata": {},
   "outputs": [
    {
     "name": "stdout",
     "output_type": "stream",
     "text": [
      "1.0\n",
      "0.9649122807017544\n"
     ]
    }
   ],
   "source": [
    "\n",
    "train_set_error= accuracy_of_model(X_train,y_train,parameters)\n",
    "test_set_error= accuracy_of_model(X_test,y_test,parameters)\n",
    "\n",
    "print(train_set_error)\n",
    "print(test_set_error)"
   ]
  },
  {
   "cell_type": "code",
   "execution_count": 19,
   "id": "0934894c-6f3f-40d5-9667-c66dc583c3ca",
   "metadata": {},
   "outputs": [
    {
     "name": "stdout",
     "output_type": "stream",
     "text": [
      "The number of training example is: 455\n",
      "The size of mini batch for each epoch is: 64\n",
      "cost after epoch 0: 0.0173641445857085\n",
      "cost after epoch 100: 0.005989875818402151\n",
      "cost after epoch 200: 0.00478461741090923\n",
      "cost after epoch 300: 0.0036662493773156053\n",
      "cost after epoch 400: 0.002853018931395218\n",
      "cost after epoch 500: 0.002766348133113488\n",
      "cost after epoch 600: 0.003206320020148763\n",
      "cost after epoch 700: 0.0014914599779748366\n",
      "cost after epoch 800: 0.0013697308886950234\n",
      "cost after epoch 900: 0.0012224748595858418\n"
     ]
    },
    {
     "data": {
      "image/png": "[encoded data removed]",
      "text/plain": [
       "<Figure size 640x480 with 1 Axes>"
      ]
     },
     "metadata": {},
     "output_type": "display_data"
    }
   ],
   "source": [
    "parameters=model(X_train,y_train,layers_dims,\"momentum\",learning_rate=1e-3,mini_batch_size=64,beta=0.9,beta1=0.9,beta2=0.999,epsilon=1e-8,num_epochs=1000,print_cost=True)"
   ]
  },
  {
   "cell_type": "code",
   "execution_count": 20,
   "id": "4ecd08cb-b20f-4372-a01d-e88ca95bfea1",
   "metadata": {
    "scrolled": true
   },
   "outputs": [
    {
     "name": "stdout",
     "output_type": "stream",
     "text": [
      "The number of training example is: 455\n",
      "The size of mini batch for each epoch is: 64\n",
      "cost after epoch 0: 0.01724041298205099\n",
      "cost after epoch 100: 0.005966437622171336\n",
      "cost after epoch 200: 0.004771706522305874\n",
      "cost after epoch 300: 0.0036559891917212115\n",
      "cost after epoch 400: 0.002845742335169891\n",
      "cost after epoch 500: 0.0027632374555810807\n",
      "cost after epoch 600: 0.003194533197814261\n",
      "cost after epoch 700: 0.001488917109758518\n",
      "cost after epoch 800: 0.001367092860475013\n",
      "cost after epoch 900: 0.001220182965754464\n"
     ]
    },
    {
     "data": {
      "image/png": "[encoded data removed]",
      "text/plain": [
       "<Figure size 640x480 with 1 Axes>"
      ]
     },
     "metadata": {},
     "output_type": "display_data"
    }
   ],
   "source": [
    "parameters=model(X_train,y_train,layers_dims,\"GD\",learning_rate=1e-3,mini_batch_size=64,beta=0.9,beta1=0.9,beta2=0.999,epsilon=1e-8,num_epochs=1000,print_cost=True)"
   ]
  },
  {
   "cell_type": "code",
   "execution_count": 21,
   "id": "46a0010f-34a6-450b-a95e-3a3a199e6e96",
   "metadata": {},
   "outputs": [
    {
     "name": "stdout",
     "output_type": "stream",
     "text": [
      "0.9824175824175824\n",
      "0.9736842105263158\n"
     ]
    }
   ],
   "source": [
    "train_set_error= accuracy_of_model(X_train,y_train,parameters)\n",
    "test_set_error= accuracy_of_model(X_test,y_test,parameters)\n",
    "\n",
    "print(train_set_error)\n",
    "print(test_set_error)"
   ]
  },
  {
   "cell_type": "code",
   "execution_count": 4,
   "id": "9a07ae89-81c9-43f6-9404-9a3147609120",
   "metadata": {},
   "outputs": [],
   "source": [
    "def binaryCrossentropyRegularized(y,AL,lambd,parameters):\n",
    "    m=y.shape[1]\n",
    "    regularized_term=0\n",
    "    L=len(parameters)//2\n",
    "    for i in range(L):\n",
    "        regularized_term+=np.sum(parameters[\"W\"+str(i+1)]**2)\n",
    "    regularized_term*=lambd/(2*m)\n",
    "   \n",
    "    cost_term=-y*np.log(AL+1e-8)-(1-y)*np.log(1-AL+1e-8)\n",
    "    cost_term=np.sum(cost_term)\n",
    "    return cost_term/m+regularized_term\n",
    "\n",
    "\n",
    "\n",
    "\n",
    "def linear_backward_regularized(dZ,linear_cache,lambd):\n",
    "    m=dZ.shape[1]\n",
    "    A_prev,W,b=linear_cache\n",
    "\n",
    "    dW=np.matmul(dZ,A_prev.T)/m+lambd*W/m\n",
    "    db=np.mean(dZ,axis=1,keepdims=True)\n",
    "    dA_prev=np.matmul(W.T,dZ)\n",
    "    return dW,db,dA_prev\n",
    "    \n",
    "\n",
    "def linear_activation_backward_regularized(dA,cache,activation,lambd):\n",
    "    linear_cache,activation_cache=cache\n",
    "    if activation==\"relu\":\n",
    "        dZ=relu_backward(dA,activation_cache)\n",
    "        \n",
    "    elif activation==\"sigmoid\":\n",
    "        dZ=sigmoid_backward(dA,activation_cache)\n",
    "        \n",
    "        \n",
    "    elif activation==\"tanh\":\n",
    "        dZ=tanh_backward(dA,activation_cache)\n",
    "    dW,db,dA_prev=linear_backward_regularized(dZ,linear_cache,lambd)\n",
    "    return dW,db,dA_prev\n",
    "\n",
    "def L_layer_backward_regularized(A_L,y,caches,lambd):\n",
    "    m=y.shape[1]\n",
    "    L=len(caches)\n",
    "    cache=caches[L-1]\n",
    "    grads={}\n",
    "    \n",
    "    dA=-y/(A_L+1e-8)+(1-y)/(1-A_L+1e-8)\n",
    "    grads[\"dW\"+str(L)],grads[\"db\"+str(L)],grads[\"dA\"+str(L-1)]=linear_activation_backward_regularized(dA,cache,\"sigmoid\",lambd)\n",
    "    for i in reversed(range(1,L)):\n",
    "        cache=caches[i-1]\n",
    "        grads[\"dW\"+str(i)],grads[\"db\"+str(i)],grads[\"dA\"+str(i-1)]=linear_activation_backward_regularized(grads[\"dA\"+str(i)],cache,\"relu\",lambd)\n",
    "    return grads\n",
    "\n",
    "def update_parameters_regularized(parameters,grads,learning_rate,lambd):\n",
    "    L=len(parameters)//2\n",
    "    for i in range(L):\n",
    "        parameters[\"W\"+str(i+1)]-=learning_rate*grads[\"dW\"+str(i+1)]\n",
    "        parameters[\"b\"+str(i+1)]-=learning_rate*grads[\"db\"+str(i+1)]\n",
    "    return parameters\n",
    "\n",
    "def L_layer_model_regularized(X,y,layer_dims,learning_rate,iteration,lambd,print_cost=False):\n",
    "    parameters=initialize_parameters(layer_dims)\n",
    "    costs=[]\n",
    "    for i in range(iteration):\n",
    "        AL,caches= L_layer_deep_forward_layer(X,parameters)\n",
    "        cost=binaryCrossentropyRegularized(y,AL,lambd,parameters)\n",
    "        grads=L_layer_backward_regularized(AL,y,caches,lambd)\n",
    "        parameters=update_parameters_regularized(parameters,grads,learning_rate,lambd)\n",
    "        if print_cost and i%100==0:\n",
    "            costs.append(cost)\n",
    "            print(f\"Cost after iteration {i}: {cost}\")\n",
    "    return parameters,costs"
   ]
  },
  {
   "cell_type": "code",
   "execution_count": 24,
   "id": "2985a437-494c-40de-bf5b-8c192ed4ea7c",
   "metadata": {},
   "outputs": [
    {
     "name": "stdout",
     "output_type": "stream",
     "text": [
      "Cost after iteration 0: 0.9814327886214709\n",
      "Cost after iteration 100: 0.3741441938974781\n",
      "Cost after iteration 200: 0.26456248078981254\n",
      "Cost after iteration 300: 0.20491025705026977\n",
      "Cost after iteration 400: 0.16736813195736044\n",
      "Cost after iteration 500: 0.141115727878053\n",
      "Cost after iteration 600: 0.12118249420433823\n",
      "Cost after iteration 700: 0.10551853158811264\n",
      "Cost after iteration 800: 0.09382339017603603\n",
      "Cost after iteration 900: 0.0852603603779967\n",
      "Cost after iteration 1000: 0.07867194335626175\n",
      "Cost after iteration 1100: 0.07312592336077929\n",
      "Cost after iteration 1200: 0.06839204732557497\n",
      "Cost after iteration 1300: 0.06464830868491281\n",
      "Cost after iteration 1400: 0.06156107129140059\n",
      "Cost after iteration 1500: 0.058857670460363\n",
      "Cost after iteration 1600: 0.056467595224246984\n",
      "Cost after iteration 1700: 0.0543319799403678\n",
      "Cost after iteration 1800: 0.05243638458482516\n",
      "Cost after iteration 1900: 0.05070526667291582\n",
      "Cost after iteration 2000: 0.049112207584928076\n",
      "Cost after iteration 2100: 0.04768839709974683\n",
      "Cost after iteration 2200: 0.04637243768352527\n",
      "Cost after iteration 2300: 0.04513258891602705\n",
      "Cost after iteration 2400: 0.0439668164494199\n",
      "Cost after iteration 2500: 0.042852635479429704\n",
      "Cost after iteration 2600: 0.041811099501632976\n",
      "Cost after iteration 2700: 0.04083270037392277\n",
      "Cost after iteration 2800: 0.0399034217816441\n",
      "Cost after iteration 2900: 0.03904800125989797\n",
      "Cost after iteration 3000: 0.03821336897732172\n",
      "Cost after iteration 3100: 0.03738703017805289\n",
      "Cost after iteration 3200: 0.03661191174939967\n",
      "Cost after iteration 3300: 0.03587528613331806\n",
      "Cost after iteration 3400: 0.03517124980732899\n"
     ]
    },
    {
     "data": {
      "image/png": "[encoded data removed]",
      "text/plain": [
       "<Figure size 640x480 with 1 Axes>"
      ]
     },
     "metadata": {},
     "output_type": "display_data"
    }
   ],
   "source": [
    "parameters,costs=L_layer_model_regularized(X_train,y_train,(30,16,8,1),0.0075,3500,0.1,print_cost=True)\n",
    "\n",
    "plt.plot(costs)\n",
    "plt.xlabel(\"# Iteration\")\n",
    "plt.ylabel(\"cost\")\n",
    "plt.title(\"Learning curve\")\n",
    "plt.show()\n"
   ]
  },
  {
   "cell_type": "code",
   "execution_count": 25,
   "id": "72afc116-d570-47e3-9315-504787c31d4e",
   "metadata": {},
   "outputs": [
    {
     "name": "stdout",
     "output_type": "stream",
     "text": [
      "0.9912087912087912\n",
      "0.9824561403508771\n"
     ]
    }
   ],
   "source": [
    "train_set_error= accuracy_of_model(X_train,y_train,parameters)\n",
    "test_set_error= accuracy_of_model(X_test,y_test,parameters)\n",
    "\n",
    "print(train_set_error)\n",
    "print(test_set_error)"
   ]
  },
  {
   "cell_type": "code",
   "execution_count": 5,
   "id": "c7acf12f-6222-4991-98ba-763eb6bb2eae",
   "metadata": {},
   "outputs": [],
   "source": [
    "def linear_activation_layer_dropout(A_prev,W,b,activation,keep_prop):\n",
    "    Z=np.matmul(W,A_prev)+b\n",
    "    linear_cache=(A_prev,W,b)\n",
    "    if activation==\"relu\":\n",
    "        A,activation_cache=relu(Z)\n",
    "        \n",
    "    elif activation==\"sigmoid\":\n",
    "        A,activation_cache=sigmoid(Z)\n",
    "        \n",
    "    elif activation==\"tanh\":\n",
    "        A,activation_cache=tanh(Z)\n",
    "    D=(np.random.rand(A.shape[0],A.shape[1])<keep_prop).astype(int)\n",
    "\n",
    "    A=A*D\n",
    "    A/=keep_prop\n",
    " \n",
    "    \n",
    "    cache=(linear_cache,activation_cache,D)\n",
    "    return A,cache\n",
    "\n",
    "def L_layer_deep_forward_layer_dropout(X,parameters,keep_prop):\n",
    "    L=len(parameters)//2\n",
    "    A_prev=X\n",
    "    caches=[]\n",
    "    for i in range(L-1):\n",
    "        A,cache=linear_activation_layer_dropout(A_prev,parameters[\"W\"+str(i+1)],parameters[\"b\"+str(i+1)],\"relu\",keep_prop)\n",
    "        caches.append(cache)\n",
    "        A_prev=A\n",
    "        \n",
    "    A,cache=linear_activation_layer_dropout(A_prev,parameters[\"W\"+str(L)],parameters[\"b\"+str(L)],\"sigmoid\",1)\n",
    "    caches.append(cache)\n",
    "    return A,caches\n",
    "\n",
    "def linear_activation_backward_dropout(dA,cache,activation,keep_prop):\n",
    "    linear_cache,activation_cache,D=cache\n",
    "    dA=dA*D/keep_prop\n",
    "    if activation==\"relu\":\n",
    "        dZ=relu_backward(dA,activation_cache)\n",
    "        \n",
    "    elif activation==\"sigmoid\":\n",
    "        dZ=sigmoid_backward(dA,activation_cache)\n",
    "        \n",
    "        \n",
    "    elif activation==\"tanh\":\n",
    "        dZ=tanh_backward(dA,activation_cache)\n",
    "    \n",
    "    dW,db,dA_prev=linear_backward(dZ,linear_cache)  \n",
    "    return dW,db,dA_prev  \n",
    "\n",
    "\n",
    "def L_layer_backward_dropout(A_L,y,caches,keep_prop):\n",
    "    grads={}\n",
    "    L=len(caches)\n",
    "    cache=caches[L-1]\n",
    "    m=y.shape[1]\n",
    "    \n",
    "    dAL=(-np.divide(y,A_L+1e-8)+np.divide(1-y,1-A_L+1e-8))/m\n",
    "    grads[\"dW\"+str(L)],grads[\"db\"+str(L)],grads[\"dA\"+str(L-1)]=linear_activation_backward_dropout(dAL,cache,\"sigmoid\",1)\n",
    " \n",
    "    \n",
    "    for i in reversed(range(L-1)):\n",
    "        \n",
    "        cache=caches[i]\n",
    "     \n",
    "        grads[\"dW\"+str(i+1)],grads[\"db\"+str(i+1)],grads[\"dA\"+str(i)]=linear_activation_backward_dropout(grads[\"dA\"+str(i+1)],cache,\"relu\",keep_prop)\n",
    "        \n",
    "    \n",
    "    return grads\n",
    "\n",
    "def L_layer_model_dropout(X,y,layer_dims,learning_rate,iterations,keep_prop,print_cost=False):\n",
    "    parameters=initialize_parameters(layer_dims)\n",
    "    costs=[]\n",
    "    for i in range(iterations):\n",
    "        AL,caches= L_layer_deep_forward_layer_dropout(X,parameters,keep_prop)\n",
    "        cost=compute_cost(y,AL)\n",
    "        grads=L_layer_backward_dropout(AL,y,caches,keep_prop)\n",
    "        parameters=update_parameters(parameters,grads,learning_rate)\n",
    "        costs.append(cost)\n",
    "        if print_cost and i % 100 == 0:\n",
    "            print(f\"Cost after iteration {i}: {cost}\")\n",
    "            if(i>0 and abs(costs[i]-costs[i-1])<1e-5):\n",
    "                break\n",
    "    return parameters,costs"
   ]
  },
  {
   "cell_type": "code",
   "execution_count": 29,
   "id": "86fec92c-5315-4fa0-9ab3-8d23c4187bb2",
   "metadata": {},
   "outputs": [
    {
     "name": "stdout",
     "output_type": "stream",
     "text": [
      "Cost after iteration 0: 1.2821362169500476\n",
      "Cost after iteration 100: 1.3437635598638602\n",
      "Cost after iteration 200: 1.2513169461451683\n",
      "Cost after iteration 300: 1.411831160029004\n",
      "Cost after iteration 400: 1.2795602814681923\n",
      "Cost after iteration 500: 1.1443061340710778\n",
      "Cost after iteration 600: 1.2264386173283766\n",
      "Cost after iteration 700: 1.3084817873446104\n",
      "Cost after iteration 800: 1.3826790204871646\n",
      "Cost after iteration 900: 1.2839712418074898\n",
      "Cost after iteration 1000: 1.1732104224443962\n",
      "Cost after iteration 1100: 1.1811631883734524\n",
      "Cost after iteration 1200: 1.2663627033925722\n",
      "Cost after iteration 1300: 1.2437252517078106\n",
      "Cost after iteration 1400: 1.1939498473204846\n",
      "Cost after iteration 1500: 1.168996587402616\n",
      "Cost after iteration 1600: 1.2727799269699787\n",
      "Cost after iteration 1700: 1.176940539584941\n",
      "Cost after iteration 1800: 1.2621097246805288\n",
      "Cost after iteration 1900: 1.2137489005991131\n",
      "Cost after iteration 2000: 1.2170608921318813\n",
      "Cost after iteration 2100: 1.107222894709707\n",
      "Cost after iteration 2200: 1.2626312800670514\n",
      "Cost after iteration 2300: 1.2930852938343451\n",
      "Cost after iteration 2400: 1.123286165620634\n",
      "Cost after iteration 2500: 1.1328518545717665\n",
      "Cost after iteration 2600: 1.1749370064817628\n",
      "Cost after iteration 2700: 1.233572851607513\n",
      "Cost after iteration 2800: 1.1338213545107034\n",
      "Cost after iteration 2900: 1.103036846294194\n",
      "Cost after iteration 3000: 1.1009054698704999\n",
      "Cost after iteration 3100: 1.2139163427149127\n",
      "Cost after iteration 3200: 1.1450325849215033\n",
      "Cost after iteration 3300: 1.1309743485282377\n",
      "Cost after iteration 3400: 1.1280821274045778\n",
      "Cost after iteration 3500: 1.1132475221293632\n",
      "Cost after iteration 3600: 1.1284618959408337\n",
      "Cost after iteration 3700: 1.1120451645600187\n",
      "Cost after iteration 3800: 1.0651775150824505\n",
      "Cost after iteration 3900: 0.9971120276950726\n",
      "Cost after iteration 4000: 1.0298690316031924\n",
      "Cost after iteration 4100: 1.0395836593885541\n",
      "Cost after iteration 4200: 1.0816110358068798\n",
      "Cost after iteration 4300: 1.1359072717811944\n",
      "Cost after iteration 4400: 1.0902959761581628\n",
      "Cost after iteration 4500: 1.0218870794588115\n",
      "Cost after iteration 4600: 0.975191171127095\n",
      "Cost after iteration 4700: 1.050550932951155\n",
      "Cost after iteration 4800: 1.0186999508130126\n",
      "Cost after iteration 4900: 0.9421888085884118\n",
      "Cost after iteration 5000: 1.0585102796393624\n",
      "Cost after iteration 5100: 1.0548248991214357\n",
      "Cost after iteration 5200: 0.9940329584815151\n",
      "Cost after iteration 5300: 0.9189765676015645\n",
      "Cost after iteration 5400: 1.0595605519304196\n",
      "Cost after iteration 5500: 0.9713032424431504\n",
      "Cost after iteration 5600: 0.9985943528140669\n",
      "Cost after iteration 5700: 1.0133375972789576\n",
      "Cost after iteration 5800: 0.9836141929056166\n",
      "Cost after iteration 5900: 0.997678260556805\n",
      "Cost after iteration 6000: 1.0324946737576173\n",
      "Cost after iteration 6100: 1.0054900657925827\n",
      "Cost after iteration 6200: 1.0106049404749051\n",
      "Cost after iteration 6300: 1.0054718238470364\n",
      "Cost after iteration 6400: 0.9971684515140171\n",
      "Cost after iteration 6500: 0.88481726218935\n",
      "Cost after iteration 6600: 0.9614339796698332\n",
      "Cost after iteration 6700: 0.9552852471481368\n",
      "Cost after iteration 6800: 0.9211465725227355\n",
      "Cost after iteration 6900: 0.9566746843926914\n",
      "Cost after iteration 7000: 0.930787538004303\n",
      "Cost after iteration 7100: 0.9295059887354754\n",
      "Cost after iteration 7200: 0.9769339026954637\n",
      "Cost after iteration 7300: 1.0407084368287256\n",
      "Cost after iteration 7400: 0.9461896149829742\n",
      "Cost after iteration 7500: 0.955913817493632\n",
      "Cost after iteration 7600: 0.8777637226904252\n",
      "Cost after iteration 7700: 0.9678229528566252\n",
      "Cost after iteration 7800: 0.9365229794561104\n",
      "Cost after iteration 7900: 0.9802849066673002\n",
      "Cost after iteration 8000: 0.9682506690701131\n",
      "Cost after iteration 8100: 0.9452356067762334\n",
      "Cost after iteration 8200: 0.9163456560276524\n",
      "Cost after iteration 8300: 0.8803858202949817\n",
      "Cost after iteration 8400: 0.924289099002826\n",
      "Cost after iteration 8500: 0.8746310132781515\n",
      "Cost after iteration 8600: 0.8868710409383351\n",
      "Cost after iteration 8700: 0.9088453155213077\n",
      "Cost after iteration 8800: 0.9223496118187927\n",
      "Cost after iteration 8900: 1.0496978622560966\n",
      "Cost after iteration 9000: 0.9608025588159168\n",
      "Cost after iteration 9100: 0.8754542259216278\n",
      "Cost after iteration 9200: 0.9300737063546088\n",
      "Cost after iteration 9300: 0.9473807108672773\n",
      "Cost after iteration 9400: 0.8626583059572921\n",
      "Cost after iteration 9500: 0.9192055979655986\n",
      "Cost after iteration 9600: 0.9630321621551258\n",
      "Cost after iteration 9700: 0.8450995133645455\n",
      "Cost after iteration 9800: 1.0028795365985719\n",
      "Cost after iteration 9900: 0.8079447329888513\n",
      "Cost after iteration 10000: 0.8634061712179033\n",
      "Cost after iteration 10100: 0.8843717992989976\n",
      "Cost after iteration 10200: 0.8726852297346063\n",
      "Cost after iteration 10300: 0.8576770790272034\n",
      "Cost after iteration 10400: 0.8002237887102761\n",
      "Cost after iteration 10500: 0.857282773679862\n",
      "Cost after iteration 10600: 0.8199689423012299\n",
      "Cost after iteration 10700: 0.8254163858063458\n",
      "Cost after iteration 10800: 0.8062304482810435\n",
      "Cost after iteration 10900: 0.8589025104408776\n",
      "Cost after iteration 11000: 0.8247108690846326\n",
      "Cost after iteration 11100: 0.8514813785764371\n",
      "Cost after iteration 11200: 0.8878922183226688\n",
      "Cost after iteration 11300: 0.7755397788009772\n",
      "Cost after iteration 11400: 0.7870795868749058\n",
      "Cost after iteration 11500: 0.830130111322253\n",
      "Cost after iteration 11600: 0.867082913320736\n",
      "Cost after iteration 11700: 0.8169519407753469\n",
      "Cost after iteration 11800: 0.8586268535730589\n",
      "Cost after iteration 11900: 0.7891073115193967\n",
      "Cost after iteration 12000: 0.8090089532476296\n",
      "Cost after iteration 12100: 0.7622231667069311\n",
      "Cost after iteration 12200: 0.7714852790808175\n",
      "Cost after iteration 12300: 0.849222942917818\n",
      "Cost after iteration 12400: 0.8319268759738816\n",
      "Cost after iteration 12500: 0.8465847002538945\n",
      "Cost after iteration 12600: 0.8531613030514034\n",
      "Cost after iteration 12700: 0.8208668753979639\n",
      "Cost after iteration 12800: 0.7932813397976363\n",
      "Cost after iteration 12900: 0.8126526847570071\n",
      "Cost after iteration 13000: 0.8342651320136439\n",
      "Cost after iteration 13100: 0.7566714735107034\n",
      "Cost after iteration 13200: 0.7947389739505205\n",
      "Cost after iteration 13300: 0.7565597510621068\n",
      "Cost after iteration 13400: 0.7770864715376764\n",
      "Cost after iteration 13500: 0.779966298200558\n",
      "Cost after iteration 13600: 0.7665597540249289\n",
      "Cost after iteration 13700: 0.8178323043717752\n",
      "Cost after iteration 13800: 0.7837506296206315\n",
      "Cost after iteration 13900: 0.7577433118020835\n",
      "Cost after iteration 14000: 0.7741745515718751\n",
      "Cost after iteration 14100: 0.7514138367511994\n",
      "Cost after iteration 14200: 0.7710871308294127\n",
      "Cost after iteration 14300: 0.7910345474564386\n",
      "Cost after iteration 14400: 0.7941302168502459\n",
      "Cost after iteration 14500: 0.7923623802533469\n",
      "Cost after iteration 14600: 0.7530051380767011\n",
      "Cost after iteration 14700: 0.7296617035498184\n",
      "Cost after iteration 14800: 0.7601840336379496\n",
      "Cost after iteration 14900: 0.754058900868458\n",
      "Cost after iteration 15000: 0.8342378968548888\n",
      "Cost after iteration 15100: 0.7592178544474634\n",
      "Cost after iteration 15200: 0.724796795615117\n",
      "Cost after iteration 15300: 0.7536685333217854\n",
      "Cost after iteration 15400: 0.7799429946982634\n",
      "Cost after iteration 15500: 0.7998564823865701\n",
      "Cost after iteration 15600: 0.7709881176116464\n",
      "Cost after iteration 15700: 0.7784296384798172\n",
      "Cost after iteration 15800: 0.7603108998235589\n",
      "Cost after iteration 15900: 0.7489171807304987\n",
      "Cost after iteration 16000: 0.7552370941651001\n",
      "Cost after iteration 16100: 0.7451605316835302\n",
      "Cost after iteration 16200: 0.7323405294723628\n",
      "Cost after iteration 16300: 0.778926328118754\n",
      "Cost after iteration 16400: 0.7233193688575723\n",
      "Cost after iteration 16500: 0.796246919646129\n",
      "Cost after iteration 16600: 0.7334097071835208\n",
      "Cost after iteration 16700: 0.7368767447977073\n",
      "Cost after iteration 16800: 0.6920385336448537\n",
      "Cost after iteration 16900: 0.660346653767013\n",
      "Cost after iteration 17000: 0.7282660412408472\n",
      "Cost after iteration 17100: 0.7526923930402475\n",
      "Cost after iteration 17200: 0.7529540614088541\n",
      "Cost after iteration 17300: 0.7301991330328172\n",
      "Cost after iteration 17400: 0.6917792516848386\n",
      "Cost after iteration 17500: 0.6894119407874891\n",
      "Cost after iteration 17600: 0.717075344472558\n",
      "Cost after iteration 17700: 0.7080141842733982\n",
      "Cost after iteration 17800: 0.800082711827134\n",
      "Cost after iteration 17900: 0.6980792972033487\n",
      "Cost after iteration 18000: 0.7304754956916573\n",
      "Cost after iteration 18100: 0.7073696319777261\n",
      "Cost after iteration 18200: 0.7326705676050707\n",
      "Cost after iteration 18300: 0.6988130872175432\n",
      "Cost after iteration 18400: 0.7268058271333895\n",
      "Cost after iteration 18500: 0.7599080401859939\n",
      "Cost after iteration 18600: 0.7573614849882063\n",
      "Cost after iteration 18700: 0.6863017146751896\n",
      "Cost after iteration 18800: 0.7440267364112082\n",
      "Cost after iteration 18900: 0.7007287673772208\n",
      "Cost after iteration 19000: 0.6990143492777068\n",
      "Cost after iteration 19100: 0.7532376294395887\n",
      "Cost after iteration 19200: 0.7351788045770424\n",
      "Cost after iteration 19300: 0.7175556005526411\n",
      "Cost after iteration 19400: 0.6806702809165913\n",
      "Cost after iteration 19500: 0.7332004053111865\n",
      "Cost after iteration 19600: 0.6954805123993911\n",
      "Cost after iteration 19700: 0.688197541626059\n",
      "Cost after iteration 19800: 0.715707136073093\n",
      "Cost after iteration 19900: 0.7248178554371365\n"
     ]
    },
    {
     "data": {
      "image/png": "[encoded data removed]",
      "text/plain": [
       "<Figure size 640x480 with 1 Axes>"
      ]
     },
     "metadata": {},
     "output_type": "display_data"
    },
    {
     "name": "stdout",
     "output_type": "stream",
     "text": [
      "0.7648351648351648\n",
      "0.7543859649122807\n"
     ]
    }
   ],
   "source": [
    "\n",
    "    \n",
    "    parameters,costs=L_layer_model_dropout(X_train,y_train,layers_dims,0.01,20000,0.5,print_cost=True)\n",
    "\n",
    "    \n",
    "    plt.plot(costs)\n",
    "    plt.xlabel(\"# Iteration\")\n",
    "    plt.ylabel(\"cost\")\n",
    "    plt.title(\"Learning curve\")\n",
    "    plt.show()\n",
    "\n",
    "  \n",
    "\n",
    "\n",
    "    train_set_error= accuracy_of_model(X_train,y_train,parameters)\n",
    "    test_set_error= accuracy_of_model(X_test,y_test,parameters)\n",
    "\n",
    "    print(train_set_error)\n",
    "    print(test_set_error)"
   ]
  },
  {
   "cell_type": "code",
   "execution_count": 29,
   "id": "787c571a-3637-49e4-9215-80cef93a7fc4",
   "metadata": {},
   "outputs": [],
   "source": [
    "import numpy as np\n",
    "from tensorflow.keras.datasets import mnist\n",
    "\n",
    "(X_train, y_train), (X_test, y_test) = mnist.load_data()\n",
    "\n",
    "train_filter = np.where((y_train == 0) | (y_train == 1))\n",
    "test_filter = np.where((y_test == 0) | (y_test == 1))\n",
    "\n",
    "X_train_01 = X_train[train_filter]\n",
    "y_train_01 = y_train[train_filter]\n",
    "\n",
    "X_test_01 = X_test[test_filter]\n",
    "y_test_01 = y_test[test_filter]\n",
    "\n",
    "\n",
    "X_train_01 = X_train_01 / 255.0\n",
    "X_test_01 = X_test_01 / 255.0\n",
    "\n",
    "\n",
    "X_train_01 = X_train_01.reshape(X_train_01.shape[0], -1).T \n",
    "X_test_01 = X_test_01.reshape(X_test_01.shape[0], -1).T\n",
    "\n",
    "y_train_01 = y_train_01.reshape(1, -1)  \n",
    "y_test_01 = y_test_01.reshape(1, -1)\n"
   ]
  },
  {
   "cell_type": "code",
   "execution_count": 34,
   "id": "8b973d81-1cfe-4a34-94e1-a63cce6be3e8",
   "metadata": {},
   "outputs": [
    {
     "name": "stdout",
     "output_type": "stream",
     "text": [
      "(1, 12665)\n"
     ]
    }
   ],
   "source": [
    "print(y_train_01.shape)"
   ]
  },
  {
   "cell_type": "code",
   "execution_count": 8,
   "id": "f77831bc-2849-4ed1-9e0f-246547ae9523",
   "metadata": {},
   "outputs": [
    {
     "name": "stdout",
     "output_type": "stream",
     "text": [
      "The number of training example is: 12665\n",
      "The size of mini batch for each epoch is: 64\n",
      "cost after epoch 0: 0.00032009423731019785\n"
     ]
    },
    {
     "data": {
      "image/png": "[encoded data removed]",
      "text/plain": [
       "<Figure size 640x480 with 1 Axes>"
      ]
     },
     "metadata": {},
     "output_type": "display_data"
    }
   ],
   "source": [
    "parameters=model(X_train_01,y_train_01,layers_dims,\"Adam\",learning_rate=1e-3,mini_batch_size=64,beta=0.9,beta1=0.9,beta2=0.999,epsilon=1e-8,num_epochs=100,print_cost=True)"
   ]
  },
  {
   "cell_type": "code",
   "execution_count": 7,
   "id": "a7c5694c-9110-484f-83ec-10859b32ad0f",
   "metadata": {},
   "outputs": [],
   "source": [
    "layers_dims=[784,128,64,32,1]"
   ]
  },
  {
   "cell_type": "code",
   "execution_count": 12,
   "id": "95a8094e-6aba-45cf-b1d5-0a184055a542",
   "metadata": {},
   "outputs": [
    {
     "name": "stdout",
     "output_type": "stream",
     "text": [
      "1.0\n",
      "1.0\n"
     ]
    }
   ],
   "source": [
    "\n",
    "\n",
    "  \n",
    "\n",
    "\n",
    "train_set_error= accuracy_of_model(X_train_01,y_train_01,parameters)\n",
    "test_set_error= accuracy_of_model(X_test_01,y_test_01,parameters)\n",
    "\n",
    "print(train_set_error)\n",
    "print(test_set_error)"
   ]
  },
  {
   "cell_type": "code",
   "execution_count": 30,
   "id": "e0589224-dce9-44c0-8815-be910ab8a82f",
   "metadata": {},
   "outputs": [],
   "source": [
    "y_pred,caches=L_layer_deep_forward_layer(X_train_01,parameters)"
   ]
  },
  {
   "cell_type": "code",
   "execution_count": 31,
   "id": "9e372dba-d1b1-476f-977b-06388f7b6bb7",
   "metadata": {},
   "outputs": [
    {
     "name": "stdout",
     "output_type": "stream",
     "text": [
      "[[1.92240060e-49 1.00000000e+00 1.00000000e+00 ... 1.00000000e+00\n",
      "  2.40278181e-38 1.00000000e+00]]\n"
     ]
    }
   ],
   "source": [
    "print(y_pred)"
   ]
  },
  {
   "cell_type": "code",
   "execution_count": 32,
   "id": "82527b61-525e-4d05-b3c7-46fa9fa2c266",
   "metadata": {},
   "outputs": [],
   "source": [
    "y_pred=(y_pred>0.5).astype(int)\n",
    "count=np.sum(y_pred!=y_train_01)"
   ]
  },
  {
   "cell_type": "code",
   "execution_count": 33,
   "id": "ff6c6eee-142d-4fb6-8b8f-e741a900bc24",
   "metadata": {},
   "outputs": [
    {
     "name": "stdout",
     "output_type": "stream",
     "text": [
      "0\n"
     ]
    }
   ],
   "source": [
    "print(count)"
   ]
  },
  {
   "cell_type": "code",
   "execution_count": 34,
   "id": "82ab1c46-1737-4f31-8dd7-466146e0fc73",
   "metadata": {},
   "outputs": [],
   "source": [
    "y_pred,caches=L_layer_deep_forward_layer(X_test_01,parameters)"
   ]
  },
  {
   "cell_type": "code",
   "execution_count": 36,
   "id": "f771028b-ae01-456f-b629-85c12f209a9c",
   "metadata": {},
   "outputs": [],
   "source": [
    "y_pred=(y_pred>0.5).astype(int)\n",
    "count=np.sum(y_pred!=y_test_01)"
   ]
  },
  {
   "cell_type": "code",
   "execution_count": 37,
   "id": "8e930ddf-c61f-4977-9136-b20fa6e8e36b",
   "metadata": {},
   "outputs": [
    {
     "name": "stdout",
     "output_type": "stream",
     "text": [
      "0\n"
     ]
    }
   ],
   "source": [
    "print(count)"
   ]
  },
  {
   "cell_type": "code",
   "execution_count": 41,
   "id": "e53d8748-0f31-4a9a-9eed-1bea28e7446e",
   "metadata": {},
   "outputs": [
    {
     "name": "stdout",
     "output_type": "stream",
     "text": [
      "Duplicate samples: 0\n"
     ]
    }
   ],
   "source": [
    "\n",
    "train_strings = np.array([\" \".join(x.astype(str)) for x in X_train_01])\n",
    "test_strings = np.array([\" \".join(x.astype(str)) for x in X_test_01])\n",
    "\n",
    "duplicates = np.intersect1d(train_strings, test_strings).shape[0]\n",
    "print(\"Duplicate samples:\", duplicates)\n"
   ]
  },
  {
   "cell_type": "code",
   "execution_count": 42,
   "id": "aca3e17c-dd7a-4c92-8dc5-5a037bf70943",
   "metadata": {},
   "outputs": [
    {
     "name": "stdout",
     "output_type": "stream",
     "text": [
      "(784, 2115)\n"
     ]
    }
   ],
   "source": [
    "print(X_test_01.shape)"
   ]
  },
  {
   "cell_type": "code",
   "execution_count": 97,
   "id": "31fc5c1c-61b5-4461-8b16-a6824e53c63f",
   "metadata": {},
   "outputs": [],
   "source": [
    "import numpy as np\n",
    "from tensorflow.keras.datasets import mnist\n",
    "\n",
    "\n",
    "(X_train, y_train), (X_test, y_test) = mnist.load_data()\n",
    "\n",
    "selected_classes = [3, 8]\n",
    "train_filter = np.isin(y_train, selected_classes)\n",
    "test_filter = np.isin(y_test, selected_classes)\n",
    "\n",
    "X_train_01 = X_train[train_filter]\n",
    "y_train_01 = y_train[train_filter]\n",
    "\n",
    "X_test_01 = X_test[test_filter]\n",
    "y_test_01 = y_test[test_filter]\n",
    "X_train_01 = X_train_01 / 255.0\n",
    "X_test_01 = X_test_01 / 255.0\n",
    "X_train_01 = X_train_01.reshape(X_train_01.shape[0], -1).T\n",
    "X_test_01 = X_test_01.reshape(X_test_01.shape[0], -1).T\n",
    "\n",
    "\n",
    "y_train_01 = (y_train_01 == selected_classes[1]).astype(int).reshape(1, -1)\n",
    "y_test_01 = (y_test_01 == selected_classes[1]).astype(int).reshape(1, -1)\n"
   ]
  },
  {
   "cell_type": "code",
   "execution_count": 90,
   "id": "b34935b9-0bea-41b7-aaaf-1d2f1ca8bb3b",
   "metadata": {},
   "outputs": [
    {
     "name": "stdout",
     "output_type": "stream",
     "text": [
      "[[0 0 0 ... 1 0 1]]\n"
     ]
    }
   ],
   "source": [
    "print(y_train_01)"
   ]
  },
  {
   "cell_type": "code",
   "execution_count": 101,
   "id": "9f14ca9b-03f1-4354-8407-589653c532c7",
   "metadata": {},
   "outputs": [
    {
     "name": "stdout",
     "output_type": "stream",
     "text": [
      "The number of training example is: 11379\n",
      "The size of mini batch for each epoch is: 64\n",
      "cost after epoch 0: 0.0010286461175266807\n",
      "cost after epoch 10: 7.069596391731169e-05\n",
      "cost after epoch 20: 9.186451709031613e-09\n",
      "cost after epoch 30: 2.4175537438894453e-09\n",
      "cost after epoch 40: 9.067897098856854e-10\n"
     ]
    },
    {
     "data": {
      "image/png": "[encoded data removed]",
      "text/plain": [
       "<Figure size 640x480 with 1 Axes>"
      ]
     },
     "metadata": {},
     "output_type": "display_data"
    }
   ],
   "source": [
    "parameters=model(X_train_01,y_train_01,layers_dims,\"Adam\",learning_rate=1e-2,mini_batch_size=64,beta=0.9,beta1=0.9,beta2=0.999,epsilon=1e-8,num_epochs=50,print_cost=True)"
   ]
  },
  {
   "cell_type": "code",
   "execution_count": 102,
   "id": "338d2f8b-be33-4a99-8114-9503584077f9",
   "metadata": {},
   "outputs": [
    {
     "name": "stdout",
     "output_type": "stream",
     "text": [
      "1.0\n",
      "0.9994802494802495\n"
     ]
    }
   ],
   "source": [
    "\n",
    "\n",
    "train_set_error= accuracy_of_model(X_train_01,y_train_01,parameters)\n",
    "test_set_error= accuracy_of_model(X_test_01,y_test_01,parameters)\n",
    "\n",
    "print(train_set_error)\n",
    "print(test_set_error)"
   ]
  },
  {
   "cell_type": "code",
   "execution_count": 100,
   "id": "3f1b623e-c032-48d7-bc2c-2672124c0c1a",
   "metadata": {},
   "outputs": [],
   "source": [
    "import numpy as np\n",
    "from tensorflow.keras.datasets import mnist\n",
    "\n",
    "\n",
    "(X_train, y_train), (X_test, y_test) = mnist.load_data()\n",
    "\n",
    "selected_classes = [2, 5]\n",
    "train_filter = np.isin(y_train, selected_classes)\n",
    "test_filter = np.isin(y_test, selected_classes)\n",
    "\n",
    "X_train_01 = X_train[train_filter]\n",
    "y_train_01 = y_train[train_filter]\n",
    "\n",
    "X_test_01 = X_test[test_filter]\n",
    "y_test_01 = y_test[test_filter]\n",
    "X_train_01 = X_train_01 / 255.0\n",
    "X_test_01 = X_test_01 / 255.0\n",
    "X_train_01 = X_train_01.reshape(X_train_01.shape[0], -1).T\n",
    "X_test_01 = X_test_01.reshape(X_test_01.shape[0], -1).T\n",
    "\n",
    "\n",
    "y_train_01 = (y_train_01 == selected_classes[1]).astype(int).reshape(1, -1)\n",
    "y_test_01 = (y_test_01 == selected_classes[1]).astype(int).reshape(1, -1)"
   ]
  },
  {
   "cell_type": "code",
   "execution_count": 52,
   "id": "3d7a2428-e4d8-4da0-8617-85ceb3ffc13b",
   "metadata": {},
   "outputs": [
    {
     "name": "stdout",
     "output_type": "stream",
     "text": [
      "[[3 3 3 ... 8 3 8]]\n"
     ]
    }
   ],
   "source": [
    "print(y_train_01)"
   ]
  },
  {
   "cell_type": "code",
   "execution_count": 117,
   "id": "bf24ef4e-5fff-4a8e-90d7-295afa838f23",
   "metadata": {},
   "outputs": [],
   "source": [
    "from tensorflow.keras.datasets import fashion_mnist\n",
    "(X_train, y_train), (X_test, y_test) = fashion_mnist.load_data()\n",
    "\n",
    "\n",
    "train_filter = np.isin(y_train, [2, 4])\n",
    "test_filter = np.isin(y_test, [2, 4])\n",
    "\n",
    "X_train, y_train = X_train[train_filter], y_train[train_filter]\n",
    "X_test, y_test = X_test[test_filter], y_test[test_filter]\n",
    "\n",
    "\n",
    "X_train = X_train.reshape(X_train.shape[0], -1).T / 255.\n",
    "X_test = X_test.reshape(X_test.shape[0], -1).T / 255.\n",
    "y_train = y_train.reshape(1, -1)\n",
    "y_test = y_test.reshape(1, -1)\n",
    "selected_classes = [2, 4]\n",
    "y_train = (y_train == selected_classes[1]).astype(int)\n",
    "y_test = (y_test == selected_classes[1]).astype(int)"
   ]
  },
  {
   "cell_type": "code",
   "execution_count": 118,
   "id": "356a809a-55ff-48f1-8649-34f21cdccdf3",
   "metadata": {},
   "outputs": [
    {
     "name": "stdout",
     "output_type": "stream",
     "text": [
      "The number of training example is: 12000\n",
      "The size of mini batch for each epoch is: 64\n",
      "cost after epoch 0: 0.006793345085343523\n",
      "cost after epoch 10: 0.004009252410122304\n",
      "cost after epoch 20: 0.0033856355982992956\n",
      "cost after epoch 30: 0.0030461359622063313\n",
      "cost after epoch 40: 0.0027199575655394827\n",
      "cost after epoch 50: 0.0026502538054117434\n",
      "cost after epoch 60: 0.0024876392772455467\n",
      "cost after epoch 70: 0.002140454617251533\n",
      "cost after epoch 80: 0.0020769338280501623\n",
      "cost after epoch 90: 0.0017967065427889877\n"
     ]
    },
    {
     "data": {
      "image/png": "[encoded data removed]",
      "text/plain": [
       "<Figure size 640x480 with 1 Axes>"
      ]
     },
     "metadata": {},
     "output_type": "display_data"
    }
   ],
   "source": [
    "parameters=model(X_train,y_train,layers_dims,\"Adam\",learning_rate=0.1,mini_batch_size=64,beta=0.9,beta1=0.9,beta2=0.999,epsilon=1e-8,num_epochs=100,print_cost=True)"
   ]
  },
  {
   "cell_type": "code",
   "execution_count": 86,
   "id": "30445c4a-e8a1-4cb3-bd8f-6654b966400b",
   "metadata": {},
   "outputs": [
    {
     "name": "stdout",
     "output_type": "stream",
     "text": [
      "[[7 5 5 ... 7 5 5]]\n"
     ]
    }
   ],
   "source": [
    "print(y_train)"
   ]
  },
  {
   "cell_type": "code",
   "execution_count": 57,
   "id": "a37aa3dd-68b5-442f-a17d-5d3c2f33f9ba",
   "metadata": {},
   "outputs": [],
   "source": [
    "layers_dims=[784,128,64,32,16,1]"
   ]
  },
  {
   "cell_type": "code",
   "execution_count": 59,
   "id": "ee453dc8-405f-4c74-8e81-fddf8a669ade",
   "metadata": {},
   "outputs": [
    {
     "name": "stdout",
     "output_type": "stream",
     "text": [
      "(784, 12000)\n"
     ]
    }
   ],
   "source": [
    "print(X_train.shape)"
   ]
  },
  {
   "cell_type": "code",
   "execution_count": 60,
   "id": "6308fdf4-4bac-4674-a9af-cc796c806eb4",
   "metadata": {},
   "outputs": [
    {
     "name": "stdout",
     "output_type": "stream",
     "text": [
      "(12000, 1)\n"
     ]
    }
   ],
   "source": [
    "print(y_train.shape)"
   ]
  },
  {
   "cell_type": "code",
   "execution_count": 119,
   "id": "cc39de74-f40f-4503-81df-38bfa6413210",
   "metadata": {},
   "outputs": [
    {
     "name": "stdout",
     "output_type": "stream",
     "text": [
      "0.95825\n",
      "0.8845\n"
     ]
    }
   ],
   "source": [
    "train_set_error= accuracy_of_model(X_train,y_train,parameters)\n",
    "test_set_error= accuracy_of_model(X_test,y_test,parameters)\n",
    "\n",
    "print(train_set_error)\n",
    "print(test_set_error)"
   ]
  },
  {
   "cell_type": "code",
   "execution_count": 65,
   "id": "48528359-c09b-4e8d-a79f-4ecdd574a306",
   "metadata": {},
   "outputs": [],
   "source": [
    "import matplotlib.pyplot as plt\n",
    "\n",
    "def plot_predictions(X, y_true, y_pred, label_names, correct=True, num_samples=5):\n",
    "    \"\"\"\n",
    "    Plots a few examples where the model was correct or incorrect.\n",
    "    \"\"\"\n",
    "    assert X.shape[0] == 784  \n",
    "    \n",
    "    y_true = y_true.flatten()\n",
    "    y_pred = y_pred.flatten()\n",
    "    \n",
    "    if correct:\n",
    "        indices = np.where(y_true == y_pred)[0]\n",
    "        title = \"Correct Predictions\"\n",
    "    else:\n",
    "        indices = np.where(y_true != y_pred)[0]\n",
    "        title = \"Incorrect Predictions\"\n",
    "    \n",
    "    if len(indices) == 0:\n",
    "        print(\"No samples to display.\")\n",
    "        return\n",
    "    \n",
    "    indices = np.random.choice(indices, size=min(num_samples, len(indices)), replace=False)\n",
    "    \n",
    "    plt.figure(figsize=(15, 4))\n",
    "    for i, idx in enumerate(indices):\n",
    "        image = X[:, idx].reshape(28, 28)\n",
    "        plt.subplot(1, num_samples, i + 1)\n",
    "        plt.imshow(image, cmap=\"gray\")\n",
    "        plt.title(f\"Pred: {label_names[y_pred[idx]]}\\nTrue: {label_names[y_true[idx]]}\")\n",
    "        plt.axis(\"off\")\n",
    "    \n",
    "    plt.suptitle(title, fontsize=16)\n",
    "    plt.show()\n"
   ]
  },
  {
   "cell_type": "code",
   "execution_count": 108,
   "id": "5df5ba4e-f79a-4d7f-8e87-dcaa12f43061",
   "metadata": {},
   "outputs": [
    {
     "ename": "ValueError",
     "evalue": "operands could not be broadcast together with shapes (12000,) (2000,) ",
     "output_type": "error",
     "traceback": [
      "\u001b[1;31m---------------------------------------------------------------------------\u001b[0m",
      "\u001b[1;31mValueError\u001b[0m                                Traceback (most recent call last)",
      "Cell \u001b[1;32mIn[108], line 1\u001b[0m\n\u001b[1;32m----> 1\u001b[0m plot_predictions(X_train, y_train, y_pred, label_names, correct\u001b[38;5;241m=\u001b[39m\u001b[38;5;28;01mTrue\u001b[39;00m, num_samples\u001b[38;5;241m=\u001b[39m\u001b[38;5;241m5\u001b[39m)\n",
      "Cell \u001b[1;32mIn[65], line 13\u001b[0m, in \u001b[0;36mplot_predictions\u001b[1;34m(X, y_true, y_pred, label_names, correct, num_samples)\u001b[0m\n\u001b[0;32m     10\u001b[0m y_pred \u001b[38;5;241m=\u001b[39m y_pred\u001b[38;5;241m.\u001b[39mflatten()\n\u001b[0;32m     12\u001b[0m \u001b[38;5;28;01mif\u001b[39;00m correct:\n\u001b[1;32m---> 13\u001b[0m     indices \u001b[38;5;241m=\u001b[39m np\u001b[38;5;241m.\u001b[39mwhere(y_true \u001b[38;5;241m==\u001b[39m y_pred)[\u001b[38;5;241m0\u001b[39m]\n\u001b[0;32m     14\u001b[0m     title \u001b[38;5;241m=\u001b[39m \u001b[38;5;124m\"\u001b[39m\u001b[38;5;124mCorrect Predictions\u001b[39m\u001b[38;5;124m\"\u001b[39m\n\u001b[0;32m     15\u001b[0m \u001b[38;5;28;01melse\u001b[39;00m:\n",
      "\u001b[1;31mValueError\u001b[0m: operands could not be broadcast together with shapes (12000,) (2000,) "
     ]
    }
   ],
   "source": [
    "plot_predictions(X_train, y_train, y_pred, label_names, correct=True, num_samples=5)"
   ]
  },
  {
   "cell_type": "code",
   "execution_count": 67,
   "id": "1cc63f39-92e8-4f05-a6a4-accce9b872d0",
   "metadata": {},
   "outputs": [
    {
     "name": "stdout",
     "output_type": "stream",
     "text": [
      "(1, 2115)\n"
     ]
    }
   ],
   "source": [
    "print(y_pred.shape)"
   ]
  },
  {
   "cell_type": "code",
   "execution_count": 109,
   "id": "094c3bc0-0c7d-4668-a10a-6c617479eb15",
   "metadata": {},
   "outputs": [],
   "source": [
    "y_pred,caches=L_layer_deep_forward_layer(X_test,parameters)"
   ]
  },
  {
   "cell_type": "code",
   "execution_count": 112,
   "id": "26b6a3e6-1123-450b-b519-c5602abd8585",
   "metadata": {},
   "outputs": [],
   "source": [
    "label_names = {\n",
    "    0: \"sandal\",\n",
    "    1: \"sneakers\"\n",
    "}\n"
   ]
  },
  {
   "cell_type": "code",
   "execution_count": 113,
   "id": "8e262c21-cbc8-4472-ac34-bd95db9280be",
   "metadata": {},
   "outputs": [
    {
     "data": {
      "image/png": "[encoded data removed]",
      "text/plain": [
       "<Figure size 1500x400 with 5 Axes>"
      ]
     },
     "metadata": {},
     "output_type": "display_data"
    }
   ],
   "source": [
    "plot_predictions(X_test, y_test, y_pred, label_names, correct=True, num_samples=5)"
   ]
  },
  {
   "cell_type": "code",
   "execution_count": 74,
   "id": "b22ac931-5f97-4572-9ddf-29c623d13fec",
   "metadata": {},
   "outputs": [
    {
     "name": "stdout",
     "output_type": "stream",
     "text": [
      "[[0 0 0 ... 1 1 0]]\n"
     ]
    }
   ],
   "source": [
    "print(y_train)"
   ]
  },
  {
   "cell_type": "code",
   "execution_count": 115,
   "id": "739b2efb-5b4d-4d60-8eea-36b82e351eb7",
   "metadata": {},
   "outputs": [],
   "source": [
    "def plot_predictions(X, y_true, y_pred, label_names, correct=True, num_samples=5):\n",
    "    indices = np.arange(X.shape[1])\n",
    "    np.random.shuffle(indices)\n",
    "\n",
    "    shown = 0\n",
    "    plt.figure(figsize=(15, 3))\n",
    "    for idx in indices:\n",
    "        if (y_pred[0, idx] == y_true[0, idx]) == correct:\n",
    "            img = X[:, idx].reshape(28, 28)\n",
    "            plt.subplot(1, num_samples, shown + 1)\n",
    "            plt.imshow(img, cmap='gray')\n",
    "            plt.axis('off')\n",
    "            plt.title(f\"Pred: {label_names[y_pred[0, idx]]}\\nTrue: {label_names[y_true[0, idx]]}\")\n",
    "            shown += 1\n",
    "            if shown >= num_samples:\n",
    "                break\n",
    "    plt.tight_layout()\n",
    "    plt.show()\n",
    "\n"
   ]
  },
  {
   "cell_type": "code",
   "execution_count": 120,
   "id": "445af737-a16f-49d8-85aa-9da3083aaa8c",
   "metadata": {},
   "outputs": [
    {
     "name": "stdout",
     "output_type": "stream",
     "text": [
      "Correct Predictions:\n"
     ]
    },
    {
     "data": {
      "image/png": "[encoded data removed]",
      "text/plain": [
       "<Figure size 1500x300 with 5 Axes>"
      ]
     },
     "metadata": {},
     "output_type": "display_data"
    },
    {
     "name": "stdout",
     "output_type": "stream",
     "text": [
      "Incorrect Predictions:\n"
     ]
    },
    {
     "name": "stderr",
     "output_type": "stream",
     "text": [
      "C:\\Users\\akash kumar shaw\\AppData\\Local\\Temp\\ipykernel_20168\\3880129113.py:17: UserWarning: Glyph 9 (\t) missing from current font.\n",
      "  plt.tight_layout()\n",
      "C:\\anaconda\\Lib\\site-packages\\IPython\\core\\pylabtools.py:152: UserWarning: Glyph 9 (\t) missing from current font.\n",
      "  fig.canvas.print_figure(bytes_io, **kw)\n"
     ]
    },
    {
     "data": {
      "image/png": "[encoded data removed]",
      "text/plain": [
       "<Figure size 1500x300 with 5 Axes>"
      ]
     },
     "metadata": {},
     "output_type": "display_data"
    }
   ],
   "source": [
    "# Predict on test set\n",
    "y_pred_test, _ = L_layer_deep_forward_layer(X_test, parameters)\n",
    "y_pred_test = (y_pred_test > 0.5).astype(int)\n",
    "\n",
    "# Label mapping\n",
    "label_names = {0: \"\tPullover\", 1: \"coat\"}\n",
    "\n",
    "# Plot correct predictions\n",
    "print(\"Correct Predictions:\")\n",
    "plot_predictions(X_test, y_test, y_pred_test, label_names, correct=True, num_samples=5)\n",
    "\n",
    "# Plot incorrect predictions\n",
    "print(\"Incorrect Predictions:\")\n",
    "plot_predictions(X_test, y_test, y_pred_test, label_names, correct=False, num_samples=5)\n"
   ]
  },
  {
   "cell_type": "code",
   "execution_count": 122,
   "id": "b20ec3c0-e96c-4e7f-8511-237293d3582b",
   "metadata": {},
   "outputs": [
    {
     "name": "stdout",
     "output_type": "stream",
     "text": [
      "The number of training example is: 768\n",
      "The size of mini batch for each epoch is: 64\n"
     ]
    },
    {
     "ename": "ValueError",
     "evalue": "matmul: Input operand 1 has a mismatch in its core dimension 0, with gufunc signature (n?,k),(k,m?)->(n?,m?) (size 768 is different from 784)",
     "output_type": "error",
     "traceback": [
      "\u001b[1;31m---------------------------------------------------------------------------\u001b[0m",
      "\u001b[1;31mValueError\u001b[0m                                Traceback (most recent call last)",
      "Cell \u001b[1;32mIn[122], line 1\u001b[0m\n\u001b[1;32m----> 1\u001b[0m parameters\u001b[38;5;241m=\u001b[39mmodel(X,y,layers_dims,\u001b[38;5;124m\"\u001b[39m\u001b[38;5;124mAdam\u001b[39m\u001b[38;5;124m\"\u001b[39m,learning_rate\u001b[38;5;241m=\u001b[39m\u001b[38;5;241m0.1\u001b[39m,mini_batch_size\u001b[38;5;241m=\u001b[39m\u001b[38;5;241m64\u001b[39m,beta\u001b[38;5;241m=\u001b[39m\u001b[38;5;241m0.9\u001b[39m,beta1\u001b[38;5;241m=\u001b[39m\u001b[38;5;241m0.9\u001b[39m,beta2\u001b[38;5;241m=\u001b[39m\u001b[38;5;241m0.999\u001b[39m,epsilon\u001b[38;5;241m=\u001b[39m\u001b[38;5;241m1e-8\u001b[39m,num_epochs\u001b[38;5;241m=\u001b[39m\u001b[38;5;241m100\u001b[39m,print_cost\u001b[38;5;241m=\u001b[39m\u001b[38;5;28;01mTrue\u001b[39;00m)\n",
      "Cell \u001b[1;32mIn[46], line 29\u001b[0m, in \u001b[0;36mmodel\u001b[1;34m(X, y, layer_dims, optimizer, learning_rate, mini_batch_size, beta, beta1, beta2, epsilon, num_epochs, print_cost)\u001b[0m\n\u001b[0;32m     26\u001b[0m \u001b[38;5;28;01mfor\u001b[39;00m mini_batch \u001b[38;5;129;01min\u001b[39;00m mini_batches:\n\u001b[0;32m     27\u001b[0m     random_X,random_y\u001b[38;5;241m=\u001b[39mmini_batch\n\u001b[1;32m---> 29\u001b[0m     AL,caches\u001b[38;5;241m=\u001b[39mL_layer_deep_forward_layer(random_X,parameters)\n\u001b[0;32m     30\u001b[0m     total_cost\u001b[38;5;241m+\u001b[39m\u001b[38;5;241m=\u001b[39mcompute_cost(random_y,AL)\n\u001b[0;32m     31\u001b[0m     grads\u001b[38;5;241m=\u001b[39mL_layer_backward(AL,random_y,caches)\n",
      "Cell \u001b[1;32mIn[1], line 101\u001b[0m, in \u001b[0;36mL_layer_deep_forward_layer\u001b[1;34m(X, parameters)\u001b[0m\n\u001b[0;32m     98\u001b[0m caches\u001b[38;5;241m=\u001b[39m[]\n\u001b[0;32m    100\u001b[0m \u001b[38;5;28;01mfor\u001b[39;00m i \u001b[38;5;129;01min\u001b[39;00m \u001b[38;5;28mrange\u001b[39m(\u001b[38;5;241m1\u001b[39m,L):\n\u001b[1;32m--> 101\u001b[0m     A_out,cache\u001b[38;5;241m=\u001b[39mlinear_activation_layer(A_in,parameters[\u001b[38;5;124m\"\u001b[39m\u001b[38;5;124mW\u001b[39m\u001b[38;5;124m\"\u001b[39m\u001b[38;5;241m+\u001b[39m\u001b[38;5;28mstr\u001b[39m(i)],parameters[\u001b[38;5;124m\"\u001b[39m\u001b[38;5;124mb\u001b[39m\u001b[38;5;124m\"\u001b[39m\u001b[38;5;241m+\u001b[39m\u001b[38;5;28mstr\u001b[39m(i)],\u001b[38;5;124m\"\u001b[39m\u001b[38;5;124mrelu\u001b[39m\u001b[38;5;124m\"\u001b[39m)\n\u001b[0;32m    102\u001b[0m     A_in\u001b[38;5;241m=\u001b[39mA_out\n\u001b[0;32m    103\u001b[0m     caches\u001b[38;5;241m.\u001b[39mappend(cache)\n",
      "Cell \u001b[1;32mIn[1], line 71\u001b[0m, in \u001b[0;36mlinear_activation_layer\u001b[1;34m(A_prev, W, b, activation)\u001b[0m\n\u001b[0;32m     61\u001b[0m \u001b[38;5;28;01mdef\u001b[39;00m \u001b[38;5;21mlinear_activation_layer\u001b[39m(A_prev,W,b,activation):\n\u001b[0;32m     63\u001b[0m \u001b[38;5;250m    \u001b[39m\u001b[38;5;124;03m\"\"\"\u001b[39;00m\n\u001b[0;32m     64\u001b[0m \u001b[38;5;124;03m    linear_activation_layer has four parameters X,W,b,activatuion\u001b[39;00m\n\u001b[0;32m     65\u001b[0m \u001b[38;5;124;03m    A_prev-> input feature matrix\u001b[39;00m\n\u001b[1;32m   (...)\u001b[0m\n\u001b[0;32m     69\u001b[0m \u001b[38;5;124;03m    \u001b[39;00m\n\u001b[0;32m     70\u001b[0m \u001b[38;5;124;03m    \"\"\"\u001b[39;00m\n\u001b[1;32m---> 71\u001b[0m     Z\u001b[38;5;241m=\u001b[39mnp\u001b[38;5;241m.\u001b[39mmatmul(W,A_prev)\u001b[38;5;241m+\u001b[39mb\n\u001b[0;32m     72\u001b[0m     linear_cache\u001b[38;5;241m=\u001b[39m(A_prev,W,b)\n\u001b[0;32m     74\u001b[0m     \u001b[38;5;28;01mif\u001b[39;00m activation\u001b[38;5;241m==\u001b[39m\u001b[38;5;124m\"\u001b[39m\u001b[38;5;124mrelu\u001b[39m\u001b[38;5;124m\"\u001b[39m:\n",
      "\u001b[1;31mValueError\u001b[0m: matmul: Input operand 1 has a mismatch in its core dimension 0, with gufunc signature (n?,k),(k,m?)->(n?,m?) (size 768 is different from 784)"
     ]
    }
   ],
   "source": []
  },
  {
   "cell_type": "code",
   "execution_count": null,
   "id": "dad100de-dc32-4f9b-8689-6faab5a38b55",
   "metadata": {},
   "outputs": [],
   "source": []
  }
 ],
 "metadata": {
  "kernelspec": {
   "display_name": "Python 3 (ipykernel)",
   "language": "python",
   "name": "python3"
  },
  "language_info": {
   "codemirror_mode": {
    "name": "ipython",
    "version": 3
   },
   "file_extension": ".py",
   "mimetype": "text/x-python",
   "name": "python",
   "nbconvert_exporter": "python",
   "pygments_lexer": "ipython3",
   "version": "3.11.7"
  }
 },
 "nbformat": 4,
 "nbformat_minor": 5
}
